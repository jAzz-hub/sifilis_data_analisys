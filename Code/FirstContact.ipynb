{
 "cells": [
  {
   "cell_type": "markdown",
   "metadata": {},
   "source": [
    "### Importando bibliotecas\n"
   ]
  },
  {
   "cell_type": "code",
   "execution_count": 15,
   "metadata": {},
   "outputs": [],
   "source": [
    "from pandas import read_csv, read_excel\n",
    "\n",
    "from myFunctions import *\n",
    "\n",
    "#from numpy import\n",
    "\n",
    "#from matplotlib import\n",
    "\n",
    "#from scipy import\n",
    "\n",
    "#from sklearn import\n",
    "\n"
   ]
  },
  {
   "cell_type": "markdown",
   "metadata": {},
   "source": [
    "### Consumindo dados em CSV:"
   ]
  },
  {
   "cell_type": "code",
   "execution_count": 16,
   "metadata": {},
   "outputs": [
    {
     "name": "stdout",
     "output_type": "stream",
     "text": [
      "     DT_NOTIFIC  NU_ANO  ID_UNIDADE  CS_GESTANT  CS_RACA  CS_ESCOL_N  CS_ZONA  \\\n",
      "0    2021-02-03    2021     2104830           1      4.0         3.0      1.0   \n",
      "1    2021-01-18    2021     2219654           3      4.0         9.0      1.0   \n",
      "2    2021-01-28    2021     5998220           3      1.0         NaN      1.0   \n",
      "3    2021-01-08    2021     2219654           3      4.0         9.0      1.0   \n",
      "4    2021-02-06    2021     2219654           3      4.0         9.0      1.0   \n",
      "...         ...     ...         ...         ...      ...         ...      ...   \n",
      "1346 2023-12-02    2023     2149990           4      4.0         9.0      1.0   \n",
      "1347 2023-04-20    2023     2149990           3      9.0         NaN      1.0   \n",
      "1348 2023-05-03    2023     2105314           2      2.0         4.0      1.0   \n",
      "1349 2023-02-22    2023     2105314           2      4.0         NaN      2.0   \n",
      "1350 2023-01-10    2023     2105462           2      1.0         3.0      1.0   \n",
      "\n",
      "      TPTESTE1  TPESQUEMA  TRATPARC  \n",
      "0          1.0        2.0       2.0  \n",
      "1          1.0        1.0       2.0  \n",
      "2          1.0        3.0       2.0  \n",
      "3          1.0        5.0       2.0  \n",
      "4          1.0        3.0       2.0  \n",
      "...        ...        ...       ...  \n",
      "1346       1.0        9.0       9.0  \n",
      "1347       1.0        5.0       9.0  \n",
      "1348       1.0        3.0       2.0  \n",
      "1349       1.0        3.0       1.0  \n",
      "1350       3.0        3.0       1.0  \n",
      "\n",
      "[1351 rows x 10 columns]\n"
     ]
    },
    {
     "data": {
      "text/html": [
       "<div>\n",
       "<style scoped>\n",
       "    .dataframe tbody tr th:only-of-type {\n",
       "        vertical-align: middle;\n",
       "    }\n",
       "\n",
       "    .dataframe tbody tr th {\n",
       "        vertical-align: top;\n",
       "    }\n",
       "\n",
       "    .dataframe thead th {\n",
       "        text-align: right;\n",
       "    }\n",
       "</style>\n",
       "<table border=\"1\" class=\"dataframe\">\n",
       "  <thead>\n",
       "    <tr style=\"text-align: right;\">\n",
       "      <th></th>\n",
       "      <th>DT_NOTIFIC</th>\n",
       "      <th>NU_ANO</th>\n",
       "      <th>ID_UNIDADE</th>\n",
       "      <th>CS_GESTANT</th>\n",
       "      <th>CS_RACA</th>\n",
       "      <th>CS_ESCOL_N</th>\n",
       "      <th>CS_ZONA</th>\n",
       "      <th>TPTESTE1</th>\n",
       "      <th>TPESQUEMA</th>\n",
       "      <th>TRATPARC</th>\n",
       "    </tr>\n",
       "  </thead>\n",
       "  <tbody>\n",
       "    <tr>\n",
       "      <th>0</th>\n",
       "      <td>2021-02-03</td>\n",
       "      <td>2021</td>\n",
       "      <td>2104830</td>\n",
       "      <td>1</td>\n",
       "      <td>4.0</td>\n",
       "      <td>3.0</td>\n",
       "      <td>1.0</td>\n",
       "      <td>1.0</td>\n",
       "      <td>2.0</td>\n",
       "      <td>2.0</td>\n",
       "    </tr>\n",
       "    <tr>\n",
       "      <th>1</th>\n",
       "      <td>2021-01-18</td>\n",
       "      <td>2021</td>\n",
       "      <td>2219654</td>\n",
       "      <td>3</td>\n",
       "      <td>4.0</td>\n",
       "      <td>9.0</td>\n",
       "      <td>1.0</td>\n",
       "      <td>1.0</td>\n",
       "      <td>1.0</td>\n",
       "      <td>2.0</td>\n",
       "    </tr>\n",
       "  </tbody>\n",
       "</table>\n",
       "</div>"
      ],
      "text/plain": [
       "  DT_NOTIFIC  NU_ANO  ID_UNIDADE  CS_GESTANT  CS_RACA  CS_ESCOL_N  CS_ZONA  \\\n",
       "0 2021-02-03    2021     2104830           1      4.0         3.0      1.0   \n",
       "1 2021-01-18    2021     2219654           3      4.0         9.0      1.0   \n",
       "\n",
       "   TPTESTE1  TPESQUEMA  TRATPARC  \n",
       "0       1.0        2.0       2.0  \n",
       "1       1.0        1.0       2.0  "
      ]
     },
     "execution_count": 16,
     "metadata": {},
     "output_type": "execute_result"
    }
   ],
   "source": [
    "df = read_excel('../Data/XLSX/10C_SIFILIS ADRIANA2019_a_2023.xlsx')\n",
    "\n",
    "print(df)\n",
    "\n",
    "df.head(2)"
   ]
  },
  {
   "cell_type": "markdown",
   "metadata": {},
   "source": [
    "### Modificando o nome das colunas"
   ]
  },
  {
   "cell_type": "code",
   "execution_count": 17,
   "metadata": {},
   "outputs": [
    {
     "name": "stdout",
     "output_type": "stream",
     "text": [
      "     Data_Notificacao   Ano  Unidade  TriGestacional  Raca  Escolaridade  \\\n",
      "0          2021-02-03  2021  2104830               1   4.0           3.0   \n",
      "1          2021-01-18  2021  2219654               3   4.0           9.0   \n",
      "2          2021-01-28  2021  5998220               3   1.0           NaN   \n",
      "3          2021-01-08  2021  2219654               3   4.0           9.0   \n",
      "4          2021-02-06  2021  2219654               3   4.0           9.0   \n",
      "...               ...   ...      ...             ...   ...           ...   \n",
      "1346       2023-12-02  2023  2149990               4   4.0           9.0   \n",
      "1347       2023-04-20  2023  2149990               3   9.0           NaN   \n",
      "1348       2023-05-03  2023  2105314               2   2.0           4.0   \n",
      "1349       2023-02-22  2023  2105314               2   4.0           NaN   \n",
      "1350       2023-01-10  2023  2105462               2   1.0           3.0   \n",
      "\n",
      "      Residencia  TipoTeste  Tratamento  TratamentoParceiro  \n",
      "0            1.0        1.0         2.0                 2.0  \n",
      "1            1.0        1.0         1.0                 2.0  \n",
      "2            1.0        1.0         3.0                 2.0  \n",
      "3            1.0        1.0         5.0                 2.0  \n",
      "4            1.0        1.0         3.0                 2.0  \n",
      "...          ...        ...         ...                 ...  \n",
      "1346         1.0        1.0         9.0                 9.0  \n",
      "1347         1.0        1.0         5.0                 9.0  \n",
      "1348         1.0        1.0         3.0                 2.0  \n",
      "1349         2.0        1.0         3.0                 1.0  \n",
      "1350         1.0        3.0         3.0                 1.0  \n",
      "\n",
      "[1351 rows x 10 columns]\n"
     ]
    }
   ],
   "source": [
    "rename_df_columns(df)\n",
    "print(df)"
   ]
  },
  {
   "cell_type": "markdown",
   "metadata": {},
   "source": [
    "### Observando quais colunas possuem linhas Nan e vazias"
   ]
  },
  {
   "cell_type": "code",
   "execution_count": 18,
   "metadata": {},
   "outputs": [
    {
     "name": "stdout",
     "output_type": "stream",
     "text": [
      "     Data_Notificacao   Ano  Unidade  TriGestacional  Raca  Escolaridade  \\\n",
      "0          2021-02-03  2021  2104830               1   4.0           3.0   \n",
      "1          2021-01-18  2021  2219654               3   4.0           9.0   \n",
      "2          2021-01-28  2021  5998220               3   1.0           NaN   \n",
      "3          2021-01-08  2021  2219654               3   4.0           9.0   \n",
      "4          2021-02-06  2021  2219654               3   4.0           9.0   \n",
      "...               ...   ...      ...             ...   ...           ...   \n",
      "1346       2023-12-02  2023  2149990               4   4.0           9.0   \n",
      "1347       2023-04-20  2023  2149990               3   9.0           NaN   \n",
      "1348       2023-05-03  2023  2105314               2   2.0           4.0   \n",
      "1349       2023-02-22  2023  2105314               2   4.0           NaN   \n",
      "1350       2023-01-10  2023  2105462               2   1.0           3.0   \n",
      "\n",
      "      Residencia  TipoTeste  Tratamento  TratamentoParceiro  \n",
      "0            1.0        1.0         2.0                 2.0  \n",
      "1            1.0        1.0         1.0                 2.0  \n",
      "2            1.0        1.0         3.0                 2.0  \n",
      "3            1.0        1.0         5.0                 2.0  \n",
      "4            1.0        1.0         3.0                 2.0  \n",
      "...          ...        ...         ...                 ...  \n",
      "1346         1.0        1.0         9.0                 9.0  \n",
      "1347         1.0        1.0         5.0                 9.0  \n",
      "1348         1.0        1.0         3.0                 2.0  \n",
      "1349         2.0        1.0         3.0                 1.0  \n",
      "1350         1.0        3.0         3.0                 1.0  \n",
      "\n",
      "[1351 rows x 10 columns]\n",
      "{'Data_Notificacao': 0, 'Ano': 0, 'Unidade': 0, 'TriGestacional': 0, 'Raca': 16, 'Escolaridade': 139, 'Residencia': 24, 'TipoTeste': 1, 'Tratamento': 1, 'TratamentoParceiro': 27}\n"
     ]
    }
   ],
   "source": [
    "print(df)\n",
    "print(Count_null_values(df))\n"
   ]
  },
  {
   "cell_type": "markdown",
   "metadata": {},
   "source": [
    "### Uma breve análise dos dados"
   ]
  },
  {
   "cell_type": "code",
   "execution_count": 24,
   "metadata": {},
   "outputs": [
    {
     "name": "stdout",
     "output_type": "stream",
     "text": [
      "Ano\n",
      "2023    24.574389\n",
      "2021    22.057735\n",
      "2022    18.948927\n",
      "2020    17.394523\n",
      "2019    17.024426\n",
      "Name: proportion, dtype: float64\n",
      "Unidade\n",
      "2219654    19.096965\n",
      "2149990    18.060696\n",
      "2205939     9.252406\n",
      "2119471     3.404885\n",
      "7366108     2.442635\n",
      "             ...    \n",
      "3022641     0.074019\n",
      "6226876     0.074019\n",
      "2193930     0.074019\n",
      "2193922     0.074019\n",
      "6577164     0.074019\n",
      "Name: proportion, Length: 239, dtype: float64\n",
      "TriGestacional\n",
      "3    42.264989\n",
      "1    27.313101\n",
      "2    16.210215\n",
      "4    14.211695\n",
      "Name: proportion, dtype: float64\n",
      "Raca\n",
      "4.0    67.265918\n",
      "9.0    14.307116\n",
      "1.0     9.438202\n",
      "2.0     8.389513\n",
      "3.0     0.449438\n",
      "5.0     0.149813\n",
      "Name: proportion, dtype: float64\n",
      "Escolaridade\n",
      "9.0    45.132013\n",
      "6.0    22.772277\n",
      "5.0    13.531353\n",
      "3.0     7.178218\n",
      "4.0     5.363036\n",
      "2.0     1.650165\n",
      "1.0     1.485149\n",
      "8.0     1.402640\n",
      "7.0     1.320132\n",
      "0.0     0.165017\n",
      "Name: proportion, dtype: float64\n",
      "Residencia\n",
      "1.0    89.223813\n",
      "2.0    10.097965\n",
      "9.0     0.527506\n",
      "3.0     0.150716\n",
      "Name: proportion, dtype: float64\n",
      "TipoTeste\n",
      "1.0    83.777778\n",
      "3.0     9.185185\n",
      "2.0     3.851852\n",
      "9.0     3.185185\n",
      "Name: proportion, dtype: float64\n",
      "Tratamento\n",
      "3.0    45.259259\n",
      "1.0    29.629630\n",
      "4.0     8.444444\n",
      "5.0     6.814815\n",
      "2.0     6.000000\n",
      "9.0     3.851852\n",
      "Name: proportion, dtype: float64\n",
      "TratamentoParceiro\n",
      "2.0    55.211480\n",
      "1.0    35.271903\n",
      "9.0     9.516616\n",
      "Name: proportion, dtype: float64\n"
     ]
    }
   ],
   "source": [
    "print(df['Ano'].value_counts(normalize=True) * 100)\n",
    "print(df['Unidade'].value_counts(normalize=True) * 100)\n",
    "print(df['TriGestacional'].value_counts(normalize=True) * 100)\n",
    "print(df['Raca'].value_counts(normalize=True) * 100)\n",
    "print(df['Escolaridade'].value_counts(normalize=True) * 100)\n",
    "print(df['Residencia'].value_counts(normalize=True) * 100)\n",
    "print(df['TipoTeste'].value_counts(normalize=True) * 100)\n",
    "print(df['Tratamento'].value_counts(normalize=True) * 100)\n",
    "print(df['TratamentoParceiro'].value_counts(normalize=True) * 100)\n"
   ]
  }
 ],
 "metadata": {
  "kernelspec": {
   "display_name": "Python 3",
   "language": "python",
   "name": "python3"
  },
  "language_info": {
   "codemirror_mode": {
    "name": "ipython",
    "version": 3
   },
   "file_extension": ".py",
   "mimetype": "text/x-python",
   "name": "python",
   "nbconvert_exporter": "python",
   "pygments_lexer": "ipython3",
   "version": "3.12.3"
  }
 },
 "nbformat": 4,
 "nbformat_minor": 2
}
